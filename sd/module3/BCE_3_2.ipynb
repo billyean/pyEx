{
 "cells": [
  {
   "cell_type": "code",
   "execution_count": 1,
   "metadata": {},
   "outputs": [],
   "source": [
    "def list_to_dict(lst):\n",
    "    list_of_list = [lst[0], [p.split(\",\") for p in lst[1]]]\n",
    "    return [list_of_list[0], {p[0]:p[1] for p in list_of_list[1]}]"
   ]
  },
  {
   "cell_type": "code",
   "execution_count": 2,
   "metadata": {},
   "outputs": [],
   "source": [
    "# Task 1 Answer\n",
    "beatles = ['beatles', ('George, guitar', 'John, guitar', 'Paul, bass', 'Ringo, drums')]"
   ]
  },
  {
   "cell_type": "code",
   "execution_count": 3,
   "metadata": {},
   "outputs": [
    {
     "name": "stdout",
     "output_type": "stream",
     "text": [
      "['beatles', {'George': ' guitar', 'John': ' guitar', 'Paul': ' bass', 'Ringo': ' drums'}]\n"
     ]
    }
   ],
   "source": [
    "# Task 2 Answer\n",
    "beatles_dict = list_to_dict(beatles)\n",
    "print(beatles_dict)"
   ]
  },
  {
   "cell_type": "code",
   "execution_count": 4,
   "metadata": {},
   "outputs": [],
   "source": [
    "# Task 3 Answer\n",
    "stones = ['stones', ('Mick, piano', 'Keith, guitar', 'Charlie, drums', 'Ronnie, guitar')]"
   ]
  },
  {
   "cell_type": "code",
   "execution_count": 5,
   "metadata": {},
   "outputs": [
    {
     "name": "stdout",
     "output_type": "stream",
     "text": [
      "['stones', {'Mick': ' piano', 'Keith': ' guitar', 'Charlie': ' drums', 'Ronnie': ' guitar'}]\n"
     ]
    }
   ],
   "source": [
    "# Task 4 Answer\n",
    "stones_dict = list_to_dict(stones)\n",
    "print(stones_dict)"
   ]
  },
  {
   "cell_type": "code",
   "execution_count": 6,
   "metadata": {},
   "outputs": [],
   "source": [
    "# Task 5 Answer\n",
    "bands = [beatles_dict, stones_dict]\n",
    "bands_dict = {b[0].capitalize():b[1] for b in bands}"
   ]
  },
  {
   "cell_type": "code",
   "execution_count": 7,
   "metadata": {},
   "outputs": [
    {
     "name": "stdout",
     "output_type": "stream",
     "text": [
      "Ringo is  drums\n"
     ]
    }
   ],
   "source": [
    "# Task 6 Answer\n",
    "ringo_vale = bands_dict['Beatles']['Ringo']\n",
    "print(f'Ringo is {ringo_vale}')"
   ]
  },
  {
   "cell_type": "code",
   "execution_count": null,
   "metadata": {},
   "outputs": [],
   "source": []
  }
 ],
 "metadata": {
  "kernelspec": {
   "display_name": "Python 3",
   "language": "python",
   "name": "python3"
  },
  "language_info": {
   "codemirror_mode": {
    "name": "ipython",
    "version": 3
   },
   "file_extension": ".py",
   "mimetype": "text/x-python",
   "name": "python",
   "nbconvert_exporter": "python",
   "pygments_lexer": "ipython3",
   "version": "3.7.0"
  }
 },
 "nbformat": 4,
 "nbformat_minor": 2
}
