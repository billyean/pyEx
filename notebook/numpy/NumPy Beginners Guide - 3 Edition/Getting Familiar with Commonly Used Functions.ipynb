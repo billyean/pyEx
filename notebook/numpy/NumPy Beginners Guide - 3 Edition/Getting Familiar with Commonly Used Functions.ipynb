{
 "cells": [
  {
   "cell_type": "code",
   "execution_count": 26,
   "metadata": {},
   "outputs": [
    {
     "data": {
      "text/plain": [
       "array([[1., 0.],\n",
       "       [0., 1.]])"
      ]
     },
     "execution_count": 26,
     "metadata": {},
     "output_type": "execute_result"
    }
   ],
   "source": [
    "import numpy as np\n",
    "i2 = np.eye(2)\n",
    "i2"
   ]
  },
  {
   "cell_type": "code",
   "execution_count": 27,
   "metadata": {},
   "outputs": [],
   "source": [
    "np.savetxt(\"eye.txt\", i2)"
   ]
  },
  {
   "cell_type": "code",
   "execution_count": 28,
   "metadata": {},
   "outputs": [],
   "source": [
    "c,v = np.loadtxt('data.csv', delimiter=',', usecols=(6,7), unpack=True)"
   ]
  },
  {
   "cell_type": "code",
   "execution_count": 29,
   "metadata": {},
   "outputs": [
    {
     "data": {
      "text/plain": [
       "array([336.1 , 339.32, 345.03, 344.32, 343.44, 346.5 , 351.88, 355.2 ,\n",
       "       358.16, 354.54, 356.85, 359.18, 359.9 , 363.13, 358.3 , 350.56,\n",
       "       338.61, 342.62, 342.88, 348.16, 353.21, 349.31, 352.12, 359.56,\n",
       "       360.  , 355.36, 355.76, 352.47, 346.67, 351.99])"
      ]
     },
     "execution_count": 29,
     "metadata": {},
     "output_type": "execute_result"
    }
   ],
   "source": [
    "c"
   ]
  },
  {
   "cell_type": "code",
   "execution_count": 30,
   "metadata": {},
   "outputs": [
    {
     "data": {
      "text/plain": [
       "array([21144800., 13473000., 15236800.,  9242600., 14064100., 11494200.,\n",
       "       17322100., 13608500., 17240800., 33162400., 13127500., 11086200.,\n",
       "       10149000., 17184100., 18949000., 29144500., 31162200., 23994700.,\n",
       "       17853500., 13572000., 14395400., 16290300., 21521000., 17885200.,\n",
       "       16188000., 19504300., 12718000., 16192700., 18138800., 16824200.])"
      ]
     },
     "execution_count": 30,
     "metadata": {},
     "output_type": "execute_result"
    }
   ],
   "source": [
    "v"
   ]
  },
  {
   "cell_type": "code",
   "execution_count": 31,
   "metadata": {},
   "outputs": [
    {
     "data": {
      "text/plain": [
       "350.5895493532009"
      ]
     },
     "execution_count": 31,
     "metadata": {},
     "output_type": "execute_result"
    }
   ],
   "source": [
    "vwap= np.average(c, weights=v) # This is same as np.sum(c * v) / np.sum(v)\n",
    "vwap"
   ]
  },
  {
   "cell_type": "code",
   "execution_count": 32,
   "metadata": {},
   "outputs": [
    {
     "data": {
      "text/plain": [
       "351.0376666666667"
      ]
     },
     "execution_count": 32,
     "metadata": {},
     "output_type": "execute_result"
    }
   ],
   "source": [
    "ca= np.average(c) # Same as np.mean(c) and same as  np.average(c, weights=np.ones(len(c)))\n",
    "ca"
   ]
  },
  {
   "cell_type": "code",
   "execution_count": 33,
   "metadata": {},
   "outputs": [
    {
     "data": {
      "text/plain": [
       "352.4283218390804"
      ]
     },
     "execution_count": 33,
     "metadata": {},
     "output_type": "execute_result"
    }
   ],
   "source": [
    "t = np.average(c, weights=np.arange(len(c)))\n",
    "t"
   ]
  },
  {
   "cell_type": "code",
   "execution_count": 34,
   "metadata": {},
   "outputs": [],
   "source": [
    "h, l = np.loadtxt('data.csv', delimiter=',', usecols=(4,5), unpack=True)"
   ]
  },
  {
   "cell_type": "code",
   "execution_count": 35,
   "metadata": {},
   "outputs": [
    {
     "data": {
      "text/plain": [
       "364.9"
      ]
     },
     "execution_count": 35,
     "metadata": {},
     "output_type": "execute_result"
    }
   ],
   "source": [
    "np.max(h)"
   ]
  },
  {
   "cell_type": "code",
   "execution_count": 36,
   "metadata": {},
   "outputs": [
    {
     "data": {
      "text/plain": [
       "333.53"
      ]
     },
     "execution_count": 36,
     "metadata": {},
     "output_type": "execute_result"
    }
   ],
   "source": [
    "np.min(l)"
   ]
  },
  {
   "cell_type": "code",
   "execution_count": 37,
   "metadata": {},
   "outputs": [
    {
     "data": {
      "text/plain": [
       "24.859999999999957"
      ]
     },
     "execution_count": 37,
     "metadata": {},
     "output_type": "execute_result"
    }
   ],
   "source": [
    "np.ptp(h) # same as np.max(h) - np.min(h)"
   ]
  },
  {
   "cell_type": "code",
   "execution_count": 38,
   "metadata": {},
   "outputs": [
    {
     "data": {
      "text/plain": [
       "24.859999999999957"
      ]
     },
     "execution_count": 38,
     "metadata": {},
     "output_type": "execute_result"
    }
   ],
   "source": [
    "np.max(h) - np.min(h)"
   ]
  },
  {
   "cell_type": "code",
   "execution_count": 39,
   "metadata": {},
   "outputs": [
    {
     "data": {
      "text/plain": [
       "352.055"
      ]
     },
     "execution_count": 39,
     "metadata": {},
     "output_type": "execute_result"
    }
   ],
   "source": [
    "np.median(c)"
   ]
  },
  {
   "cell_type": "code",
   "execution_count": 40,
   "metadata": {},
   "outputs": [],
   "source": [
    "sorted_close = np.msort(c)"
   ]
  },
  {
   "cell_type": "code",
   "execution_count": 41,
   "metadata": {},
   "outputs": [],
   "source": [
    "i_sorted_close = len(c)"
   ]
  },
  {
   "cell_type": "code",
   "execution_count": 42,
   "metadata": {},
   "outputs": [
    {
     "data": {
      "text/plain": [
       "352.055"
      ]
     },
     "execution_count": 42,
     "metadata": {},
     "output_type": "execute_result"
    }
   ],
   "source": [
    "mi = i_sorted_close // 2 \n",
    "if i_sorted_close % 2 == 0:\n",
    "    m = (sorted_close[mi] + sorted_close[mi - 1]) /2\n",
    "else:\n",
    "    m = sorted_close[mi]\n",
    "m"
   ]
  },
  {
   "cell_type": "code",
   "execution_count": 43,
   "metadata": {},
   "outputs": [
    {
     "data": {
      "text/plain": [
       "50.126517888888884"
      ]
     },
     "execution_count": 43,
     "metadata": {},
     "output_type": "execute_result"
    }
   ],
   "source": [
    "np.var(c)"
   ]
  },
  {
   "cell_type": "code",
   "execution_count": 44,
   "metadata": {},
   "outputs": [
    {
     "data": {
      "text/plain": [
       "50.126517888888884"
      ]
     },
     "execution_count": 44,
     "metadata": {},
     "output_type": "execute_result"
    }
   ],
   "source": [
    "np.mean((c - c.mean()) ** 2)"
   ]
  },
  {
   "cell_type": "code",
   "execution_count": 45,
   "metadata": {},
   "outputs": [
    {
     "data": {
      "text/plain": [
       "array([ 0.00958048,  0.01682777, -0.00205779, -0.00255576,  0.00890985,\n",
       "        0.0155267 ,  0.00943503,  0.00833333, -0.01010721,  0.00651548,\n",
       "        0.00652935,  0.00200457,  0.00897472, -0.01330102, -0.02160201,\n",
       "       -0.03408832,  0.01184253,  0.00075886,  0.01539897,  0.01450483,\n",
       "       -0.01104159,  0.00804443,  0.02112916,  0.00122372, -0.01288889,\n",
       "        0.00112562, -0.00924781, -0.0164553 ,  0.01534601])"
      ]
     },
     "execution_count": 45,
     "metadata": {},
     "output_type": "execute_result"
    }
   ],
   "source": [
    "returns = np.diff(c) / c[:-1]\n",
    "returns"
   ]
  },
  {
   "cell_type": "code",
   "execution_count": 46,
   "metadata": {},
   "outputs": [
    {
     "data": {
      "text/plain": [
       "array([ 0.00953488,  0.01668775, -0.00205991, -0.00255903,  0.00887039,\n",
       "        0.01540739,  0.0093908 ,  0.0082988 , -0.01015864,  0.00649435,\n",
       "        0.00650813,  0.00200256,  0.00893468, -0.01339027, -0.02183875,\n",
       "       -0.03468287,  0.01177296,  0.00075857,  0.01528161,  0.01440064,\n",
       "       -0.011103  ,  0.00801225,  0.02090904,  0.00122297, -0.01297267,\n",
       "        0.00112499, -0.00929083, -0.01659219,  0.01522945])"
      ]
     },
     "execution_count": 46,
     "metadata": {},
     "output_type": "execute_result"
    }
   ],
   "source": [
    "logreturns = np.diff(np.log(c))\n",
    "logreturns"
   ]
  },
  {
   "cell_type": "code",
   "execution_count": 47,
   "metadata": {},
   "outputs": [
    {
     "data": {
      "text/plain": [
       "(array([ 0,  1,  4,  5,  6,  7,  9, 10, 11, 12, 16, 17, 18, 19, 21, 22, 23,\n",
       "        25, 28]),)"
      ]
     },
     "execution_count": 47,
     "metadata": {},
     "output_type": "execute_result"
    }
   ],
   "source": [
    "postindices = np.where(returns > 0)\n",
    "postindices"
   ]
  },
  {
   "cell_type": "code",
   "execution_count": 50,
   "metadata": {},
   "outputs": [
    {
     "data": {
      "text/plain": [
       "array([0.99046512, 0.98331225, 1.00205991, 1.00255903, 0.99112961,\n",
       "       0.98459261, 0.9906092 , 0.9917012 , 1.01015864, 0.99350565,\n",
       "       0.99349187, 0.99799744, 0.99106532, 1.01339027, 1.02183875,\n",
       "       1.03468287, 0.98822704, 0.99924143, 0.98471839, 0.98559936,\n",
       "       1.011103  , 0.99198775, 0.97909096, 0.99877703, 1.01297267,\n",
       "       0.99887501, 1.00929083, 1.01659219, 0.98477055])"
      ]
     },
     "execution_count": 50,
     "metadata": {},
     "output_type": "execute_result"
    }
   ],
   "source": [
    "1 - logreturns"
   ]
  },
  {
   "cell_type": "code",
   "execution_count": 51,
   "metadata": {},
   "outputs": [
    {
     "data": {
      "text/plain": [
       "0.9983234381297623"
      ]
     },
     "execution_count": 51,
     "metadata": {},
     "output_type": "execute_result"
    }
   ],
   "source": [
    "from scipy.stats import gmean\n",
    "gmean(1 - logreturns)"
   ]
  },
  {
   "cell_type": "code",
   "execution_count": 54,
   "metadata": {},
   "outputs": [
    {
     "name": "stdout",
     "output_type": "stream",
     "text": [
      "129.27478991115132\n"
     ]
    }
   ],
   "source": [
    "annual_volatility = np.std(logreturns)/np.mean(logreturns)\n",
    "annual_volatility = annual_volatility / np.sqrt(1./252.)\n",
    "print(annual_volatility)"
   ]
  },
  {
   "cell_type": "code",
   "execution_count": 66,
   "metadata": {},
   "outputs": [
    {
     "name": "stdout",
     "output_type": "stream",
     "text": [
      "[4. 0. 1. 2. 3. 4. 0. 1. 2. 3. 4. 0. 1. 2. 3. 4. 1. 2. 3. 4. 0. 1. 2. 3.\n",
      " 4. 0. 1. 2. 3. 4.]\n"
     ]
    }
   ],
   "source": [
    "import datetime\n",
    "def datestr2num(s):\n",
    "    try:\n",
    "        return datetime.datetime.strptime(s.decode(\"utf-8\"), \"%d-%m-%Y\").date().weekday()\n",
    "    except:\n",
    "        return datetime.datetime.strptime(s.decode(\"utf-8\"), \"%d/%m/%Y\").date().weekday()\n",
    "dates, close=np.loadtxt('data.csv', delimiter=',',  converters={1: datestr2num}, usecols=(1,6), unpack=True)\n",
    "print(dates)"
   ]
  },
  {
   "cell_type": "code",
   "execution_count": 67,
   "metadata": {},
   "outputs": [
    {
     "name": "stdout",
     "output_type": "stream",
     "text": [
      "Day 0 prices [[339.32 351.88 359.18 353.21 355.36]] Average 351.7900000000001\n",
      "Day 1 prices [[345.03 355.2  359.9  338.61 349.31 355.76]] Average 350.63500000000005\n",
      "Day 2 prices [[344.32 358.16 363.13 342.62 352.12 352.47]] Average 352.1366666666666\n",
      "Day 3 prices [[343.44 354.54 358.3  342.88 359.56 346.67]] Average 350.8983333333333\n",
      "Day 4 prices [[336.1  346.5  356.85 350.56 348.16 360.   351.99]] Average 350.0228571428571\n"
     ]
    }
   ],
   "source": [
    "averages = np.zeros(5)\n",
    "for i in range(5):\n",
    "    indices = np.where(dates == i)\n",
    "    prices = np.take(close, indices)\n",
    "    avg = np.mean(prices)\n",
    "    print(\"Day\", i, \"prices\", prices, \"Average\", avg)\n",
    "    averages[i] = avg"
   ]
  },
  {
   "cell_type": "code",
   "execution_count": 90,
   "metadata": {},
   "outputs": [
    {
     "data": {
      "text/plain": [
       "0\n",
       "0.0    351.790000\n",
       "1.0    350.635000\n",
       "2.0    352.136667\n",
       "3.0    350.898333\n",
       "4.0    350.022857\n",
       "Name: 1, dtype: float64"
      ]
     },
     "execution_count": 90,
     "metadata": {},
     "output_type": "execute_result"
    }
   ],
   "source": [
    "# We can do the samething with pandas\n",
    "dc = np.hstack((dates.reshape(len(dates), 1), close.reshape(len(close), 1)))\n",
    "import pandas as pd\n",
    "ds = pd.DataFrame(data=dc)\n",
    "ds.groupby(0)[1].mean()"
   ]
  },
  {
   "cell_type": "code",
   "execution_count": 91,
   "metadata": {},
   "outputs": [
    {
     "name": "stdout",
     "output_type": "stream",
     "text": [
      "The first Monday index is 1\n"
     ]
    }
   ],
   "source": [
    "first_monday = np.ravel(np.where(dates == 0))[0]\n",
    "print(\"The first Monday index is\", first_monday)"
   ]
  },
  {
   "cell_type": "code",
   "execution_count": 97,
   "metadata": {},
   "outputs": [
    {
     "name": "stdout",
     "output_type": "stream",
     "text": [
      "The second last Friday index is 24\n"
     ]
    }
   ],
   "source": [
    "last_friday = np.ravel(np.where(dates == 4))[-2]\n",
    "print(\"The second last Friday index is\", last_friday)"
   ]
  },
  {
   "cell_type": "code",
   "execution_count": 98,
   "metadata": {},
   "outputs": [
    {
     "name": "stdout",
     "output_type": "stream",
     "text": [
      "Weeks indices initial [ 1  2  3  4  5  6  7  8  9 10 11 12 13 14 15 16 17 18 19 20 21 22 23 24]\n"
     ]
    }
   ],
   "source": [
    "weeks_indices = np.arange(first_monday, last_friday + 1)\n",
    "print(\"Weeks indices initial\", weeks_indices)"
   ]
  },
  {
   "cell_type": "code",
   "execution_count": 99,
   "metadata": {},
   "outputs": [
    {
     "name": "stdout",
     "output_type": "stream",
     "text": [
      "Weeks indices after split [array([1, 2, 3, 4, 5, 6, 7, 8]), array([ 9, 10, 11, 12, 13, 14, 15, 16]), array([17, 18, 19, 20, 21, 22, 23, 24])]\n"
     ]
    }
   ],
   "source": [
    "weeks_indices = np.split(weeks_indices, 3)\n",
    "print(\"Weeks indices after split\", weeks_indices)"
   ]
  },
  {
   "cell_type": "code",
   "execution_count": 106,
   "metadata": {},
   "outputs": [],
   "source": [
    "def datestr2num(s):\n",
    "    try:\n",
    "        return datetime.datetime.strptime(s.decode(\"utf-8\"), \"%d-%m-%Y\").date().weekday()\n",
    "    except:\n",
    "        return datetime.datetime.strptime(s.decode(\"utf-8\"), \"%d/%m/%Y\").date().weekday()\n",
    "\n",
    "dates, open, high, low, close=np.loadtxt('data.csv', delimiter=',', usecols=(1, 3, 4, 5, 6), converters={1: datestr2num}, unpack=True)"
   ]
  },
  {
   "cell_type": "code",
   "execution_count": 107,
   "metadata": {},
   "outputs": [],
   "source": [
    "close = close[:16]\n",
    "dates = dates[:16]"
   ]
  },
  {
   "cell_type": "code",
   "execution_count": 109,
   "metadata": {},
   "outputs": [
    {
     "name": "stdout",
     "output_type": "stream",
     "text": [
      "The first Monday index is 1\n",
      "The last Friday index is 15\n",
      "Weeks indices initial [ 1  2  3  4  5  6  7  8  9 10 11 12 13 14 15]\n",
      "Weeks indices after split [ 1  2  3  4  5  6  7  8  9 10 11 12 13 14 15]\n"
     ]
    }
   ],
   "source": [
    "first_monday = np.ravel(np.where(dates == 0))[0]\n",
    "print(\"The first Monday index is\", first_monday)\n",
    "last_friday = np.ravel(np.where(dates == 4))[-1]\n",
    "print(\"The last Friday index is\", last_friday)\n",
    "weeks_indices = np.arange(first_monday, last_friday + 1)\n",
    "print(\"Weeks indices initial\", weeks_indices)\n",
    "print(\"Weeks indices after split\", weeks_indices)"
   ]
  },
  {
   "cell_type": "code",
   "execution_count": 110,
   "metadata": {},
   "outputs": [
    {
     "ename": "AxisError",
     "evalue": "axis 1 is out of bounds for array of dimension 1",
     "output_type": "error",
     "traceback": [
      "\u001b[0;31m---------------------------------------------------------------------------\u001b[0m",
      "\u001b[0;31mAxisError\u001b[0m                                 Traceback (most recent call last)",
      "\u001b[0;32m<ipython-input-110-7d47aa904f3e>\u001b[0m in \u001b[0;36m<module>\u001b[0;34m\u001b[0m\n\u001b[1;32m      6\u001b[0m            return(\"APPL\", monday_open, week_high,\n\u001b[1;32m      7\u001b[0m              week_low, friday_close)\n\u001b[0;32m----> 8\u001b[0;31m \u001b[0mweeksummary\u001b[0m \u001b[0;34m=\u001b[0m \u001b[0mnp\u001b[0m\u001b[0;34m.\u001b[0m\u001b[0mapply_along_axis\u001b[0m\u001b[0;34m(\u001b[0m\u001b[0msummarize\u001b[0m\u001b[0;34m,\u001b[0m \u001b[0;36m1\u001b[0m\u001b[0;34m,\u001b[0m \u001b[0mweeks_indices\u001b[0m\u001b[0;34m,\u001b[0m \u001b[0mopen\u001b[0m\u001b[0;34m,\u001b[0m \u001b[0mhigh\u001b[0m\u001b[0;34m,\u001b[0m \u001b[0mlow\u001b[0m\u001b[0;34m,\u001b[0m \u001b[0mclose\u001b[0m\u001b[0;34m)\u001b[0m\u001b[0;34m\u001b[0m\u001b[0m\n\u001b[0m\u001b[1;32m      9\u001b[0m \u001b[0mprint\u001b[0m\u001b[0;34m(\u001b[0m\u001b[0;34m\"Week summary\"\u001b[0m\u001b[0;34m,\u001b[0m \u001b[0mweeksummary\u001b[0m\u001b[0;34m)\u001b[0m\u001b[0;34m\u001b[0m\u001b[0m\n",
      "\u001b[0;32m/usr/local/lib/python3.7/site-packages/numpy/lib/shape_base.py\u001b[0m in \u001b[0;36mapply_along_axis\u001b[0;34m(func1d, axis, arr, *args, **kwargs)\u001b[0m\n\u001b[1;32m    339\u001b[0m     \u001b[0marr\u001b[0m \u001b[0;34m=\u001b[0m \u001b[0masanyarray\u001b[0m\u001b[0;34m(\u001b[0m\u001b[0marr\u001b[0m\u001b[0;34m)\u001b[0m\u001b[0;34m\u001b[0m\u001b[0m\n\u001b[1;32m    340\u001b[0m     \u001b[0mnd\u001b[0m \u001b[0;34m=\u001b[0m \u001b[0marr\u001b[0m\u001b[0;34m.\u001b[0m\u001b[0mndim\u001b[0m\u001b[0;34m\u001b[0m\u001b[0m\n\u001b[0;32m--> 341\u001b[0;31m     \u001b[0maxis\u001b[0m \u001b[0;34m=\u001b[0m \u001b[0mnormalize_axis_index\u001b[0m\u001b[0;34m(\u001b[0m\u001b[0maxis\u001b[0m\u001b[0;34m,\u001b[0m \u001b[0mnd\u001b[0m\u001b[0;34m)\u001b[0m\u001b[0;34m\u001b[0m\u001b[0m\n\u001b[0m\u001b[1;32m    342\u001b[0m \u001b[0;34m\u001b[0m\u001b[0m\n\u001b[1;32m    343\u001b[0m     \u001b[0;31m# arr, with the iteration axis at the end\u001b[0m\u001b[0;34m\u001b[0m\u001b[0;34m\u001b[0m\u001b[0m\n",
      "\u001b[0;31mAxisError\u001b[0m: axis 1 is out of bounds for array of dimension 1"
     ]
    }
   ],
   "source": [
    "def summarize(a, o, h, l, c):\n",
    "   monday_open = o[a[0]]\n",
    "   week_high = np.max( np.take(h, a) )\n",
    "   week_low = np.min( np.take(l, a) )\n",
    "   friday_close = c[a[-1]]\n",
    "   return(\"APPL\", monday_open, week_high,\n",
    "     week_low, friday_close)\n",
    "weeksummary = np.apply_along_axis(summarize, 1, weeks_indices, open, high, low, close)\n",
    "print(\"Week summary\", weeksummary)"
   ]
  },
  {
   "cell_type": "code",
   "execution_count": null,
   "metadata": {},
   "outputs": [],
   "source": []
  }
 ],
 "metadata": {
  "kernelspec": {
   "display_name": "Python 3",
   "language": "python",
   "name": "python3"
  },
  "language_info": {
   "codemirror_mode": {
    "name": "ipython",
    "version": 3
   },
   "file_extension": ".py",
   "mimetype": "text/x-python",
   "name": "python",
   "nbconvert_exporter": "python",
   "pygments_lexer": "ipython3",
   "version": "3.7.0"
  }
 },
 "nbformat": 4,
 "nbformat_minor": 2
}
