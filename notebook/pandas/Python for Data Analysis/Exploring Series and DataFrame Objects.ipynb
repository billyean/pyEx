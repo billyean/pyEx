{
 "cells": [
  {
   "cell_type": "code",
   "execution_count": 1,
   "metadata": {},
   "outputs": [],
   "source": [
    "import pandas as pd\n",
    "from pandas import Series, DataFrame\n",
    "import numpy as np"
   ]
  },
  {
   "cell_type": "code",
   "execution_count": 2,
   "metadata": {},
   "outputs": [
    {
     "name": "stdout",
     "output_type": "stream",
     "text": [
      "0    1\n",
      "1    2\n",
      "2    3\n",
      "3    4\n",
      "dtype: int64\n"
     ]
    }
   ],
   "source": [
    "ser1 = Series([1,2,3,4])\n",
    "ser2 = Series(['a', 'b', 'c'])\n",
    "print(ser1)"
   ]
  },
  {
   "cell_type": "code",
   "execution_count": 3,
   "metadata": {},
   "outputs": [
    {
     "name": "stdout",
     "output_type": "stream",
     "text": [
      "0    a\n",
      "1    b\n",
      "2    c\n",
      "dtype: object\n"
     ]
    }
   ],
   "source": [
    "print(ser2)"
   ]
  },
  {
   "cell_type": "code",
   "execution_count": 6,
   "metadata": {},
   "outputs": [],
   "source": [
    "idx = pd.Index([\"New York\", \"Los Angeles\", \"Chicago\", \"Houston\", \"Philadelphia\",\n",
    "              \"Phoenix\", \"San Antonio\", \"San Diego\", \"Dallas\"])"
   ]
  },
  {
   "cell_type": "code",
   "execution_count": 7,
   "metadata": {},
   "outputs": [
    {
     "name": "stdout",
     "output_type": "stream",
     "text": [
      "Index(['New York', 'Los Angeles', 'Chicago', 'Houston', 'Philadelphia',\n",
      "       'Phoenix', 'San Antonio', 'San Diego', 'Dallas'],\n",
      "      dtype='object')\n"
     ]
    }
   ],
   "source": [
    "print(idx)"
   ]
  },
  {
   "cell_type": "code",
   "execution_count": 9,
   "metadata": {},
   "outputs": [],
   "source": [
    "pops = Series([8850, 3972, 2721, 2296, 1567, np.nan, 1470, 1395, 1300], index = idx, name='Population')"
   ]
  },
  {
   "cell_type": "code",
   "execution_count": 10,
   "metadata": {},
   "outputs": [
    {
     "name": "stdout",
     "output_type": "stream",
     "text": [
      "New York        8850.0\n",
      "Los Angeles     3972.0\n",
      "Chicago         2721.0\n",
      "Houston         2296.0\n",
      "Philadelphia    1567.0\n",
      "Phoenix            NaN\n",
      "San Antonio     1470.0\n",
      "San Diego       1395.0\n",
      "Dallas          1300.0\n",
      "Name: Population, dtype: float64\n"
     ]
    }
   ],
   "source": [
    "print(pops)"
   ]
  },
  {
   "cell_type": "code",
   "execution_count": 11,
   "metadata": {},
   "outputs": [],
   "source": [
    "capitals = Series({\"New York\": \"Albany\", \"California\": \"Sacramento\", \"Arizona\" : \"Phoenix\", \"Texas\": \"Austin\",\n",
    "                  \"Massachusetts\": \"Boston\"}, name = \"capitol\")"
   ]
  },
  {
   "cell_type": "code",
   "execution_count": 12,
   "metadata": {},
   "outputs": [
    {
     "name": "stdout",
     "output_type": "stream",
     "text": [
      "New York             Albany\n",
      "California       Sacramento\n",
      "Arizona             Phoenix\n",
      "Texas                Austin\n",
      "Massachusetts        Boston\n",
      "Name: capitol, dtype: object\n"
     ]
    }
   ],
   "source": [
    "print(capitals)"
   ]
  },
  {
   "cell_type": "code",
   "execution_count": null,
   "metadata": {},
   "outputs": [],
   "source": [
    "area = Series({\"\"})"
   ]
  },
  {
   "cell_type": "code",
   "execution_count": null,
   "metadata": {},
   "outputs": [],
   "source": []
  },
  {
   "cell_type": "code",
   "execution_count": null,
   "metadata": {},
   "outputs": [],
   "source": []
  },
  {
   "cell_type": "code",
   "execution_count": null,
   "metadata": {},
   "outputs": [],
   "source": []
  }
 ],
 "metadata": {
  "kernelspec": {
   "display_name": "Python 3",
   "language": "python",
   "name": "python3"
  },
  "language_info": {
   "codemirror_mode": {
    "name": "ipython",
    "version": 3
   },
   "file_extension": ".py",
   "mimetype": "text/x-python",
   "name": "python",
   "nbconvert_exporter": "python",
   "pygments_lexer": "ipython3",
   "version": "3.7.0"
  }
 },
 "nbformat": 4,
 "nbformat_minor": 2
}
